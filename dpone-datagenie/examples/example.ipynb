{
 "cells": [
  {
   "cell_type": "code",
   "execution_count": null,
   "metadata": {},
   "outputs": [],
   "source": [
    "import datagenie\n",
    "\n",
    "# Generate a supervised numerical dataframe\n",
    "numerical_df = datagenie.generate_supervised_numerical_dataframe(num_samples=1000, num_features=5)\n",
    "\n",
    "# Generate a supervised dataframe with mixed numerical and categorical features\n",
    "mixed_df = datagenie.generate_supervised_mixed_dataframe(num_samples=1000, num_numerical_features=3, num_categorical_features=2)\n",
    "\n",
    "# Display the first few rows of the generated dataframes\n",
    "print(\"Numerical DataFrame:\")\n",
    "print(numerical_df.head())\n",
    "\n",
    "print(\"\\nMixed DataFrame:\")\n",
    "print(mixed_df.head())"
   ]
  },
  {
   "cell_type": "code",
   "execution_count": null,
   "metadata": {},
   "outputs": [],
   "source": [
    "import datagenie\n",
    "\n",
    "# Plot correlation heatmap\n",
    "datagenie.plot_correlation(mixed_df)\n",
    "\n",
    "# Plot distribution of features\n",
    "datagenie.plot_distribution(mixed_df)"
   ]
  },
  {
   "cell_type": "code",
   "execution_count": null,
   "metadata": {},
   "outputs": [],
   "source": [
    "import datagenie\n",
    "\n",
    "# Apply SMOTE for data augmentation\n",
    "augmented_df = datagenie.apply_smote(mixed_df, target_column='label')\n",
    "\n",
    "# Display the first few rows of the augmented dataframe\n",
    "print(\"Augmented DataFrame:\")\n",
    "print(augmented_df.head())"
   ]
  }
 ],
 "metadata": {
  "language_info": {
   "name": "python"
  }
 },
 "nbformat": 4,
 "nbformat_minor": 2
}
